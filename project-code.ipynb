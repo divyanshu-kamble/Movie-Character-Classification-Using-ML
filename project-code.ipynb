{
  "nbformat": 4,
  "nbformat_minor": 0,
  "metadata": {
    "colab": {
      "name": "project file.ipynb",
      "provenance": [],
      "collapsed_sections": []
    },
    "kernelspec": {
      "name": "python3",
      "display_name": "Python 3"
    },
    "language_info": {
      "name": "python"
    },
    "accelerator": "GPU",
    "gpuClass": "standard"
  },
  "cells": [
    {
      "cell_type": "code",
      "execution_count": null,
      "metadata": {
        "id": "JrqizZvWgepM"
      },
      "outputs": [],
      "source": [
        "import os\n",
        "import matplotlib.pyplot as plt\n",
        "import seaborn as sns\n",
        "import cv2\n",
        "import shutil\n",
        "from matplotlib import pyplot\n",
        "import numpy as np\n",
        "import pywt\n",
        "import cv2 \n",
        "import pandas as pd  "
      ]
    },
    {
      "cell_type": "markdown",
      "source": [
        "# New Section"
      ],
      "metadata": {
        "id": "iUyefXFllYyz"
      }
    },
    {
      "cell_type": "code",
      "source": [
        "from google.colab import drive\n",
        "\n",
        "drive.mount('/content/gdrive')"
      ],
      "metadata": {
        "colab": {
          "base_uri": "https://localhost:8080/"
        },
        "id": "lGZHjnU6lnI4",
        "outputId": "776f454c-789f-4119-d8f7-e0ab74a6b001"
      },
      "execution_count": null,
      "outputs": [
        {
          "output_type": "stream",
          "name": "stdout",
          "text": [
            "Mounted at /content/gdrive\n"
          ]
        }
      ]
    },
    {
      "cell_type": "code",
      "source": [
        "os.chdir('/content/gdrive/MyDrive/Colab Notebooks/monkey dataset')"
      ],
      "metadata": {
        "id": "oE6Bnzj9l1g0"
      },
      "execution_count": null,
      "outputs": []
    },
    {
      "cell_type": "code",
      "source": [
        "os.getcwd()"
      ],
      "metadata": {
        "colab": {
          "base_uri": "https://localhost:8080/",
          "height": 36
        },
        "id": "urR1mqQ7mBz_",
        "outputId": "02ed69f4-f599-4a1d-c4a1-7e404c194a57"
      },
      "execution_count": null,
      "outputs": [
        {
          "output_type": "execute_result",
          "data": {
            "text/plain": [
              "'/content/gdrive/MyDrive/Colab Notebooks/monkey dataset'"
            ],
            "application/vnd.google.colaboratory.intrinsic+json": {
              "type": "string"
            }
          },
          "metadata": {},
          "execution_count": 4
        }
      ]
    },
    {
      "cell_type": "code",
      "source": [
        "face_cascade = cv2.CascadeClassifier('./opencv//haarcascade//haarcascade_frontalface_default.xml')\n",
        "eye_cascade = cv2.CascadeClassifier('./opencv/haarcascade/haarcascade_eye.xml')"
      ],
      "metadata": {
        "id": "3jVCM6I8ry5U"
      },
      "execution_count": null,
      "outputs": []
    },
    {
      "cell_type": "code",
      "source": [
        "def get_cropped_img_with_eyes(img_path):\n",
        "    img = cv2.imread(img_path)\n",
        "    if img is not None:\n",
        "        gr = cv2.cvtColor(img, cv2.COLOR_BGR2GRAY)\n",
        "        gray = cv2.convertScaleAbs(gr)\n",
        "        faces = face_cascade.detectMultiScale(gray, 1.3, 5)\n",
        "        for (x,y,w,h) in faces:\n",
        "            roi_gray = gray[y:y+h, x:x+w]\n",
        "            roi_color = img[y:y+h, x:x+w]\n",
        "            eyes = eye_cascade.detectMultiScale(roi_gray)\n",
        "            if len(eyes) >= 2:\n",
        "                return roi_color"
      ],
      "metadata": {
        "id": "LLWNsK_kr2ie"
      },
      "execution_count": null,
      "outputs": []
    },
    {
      "cell_type": "code",
      "source": [
        "path_to_data = \"./dataset/\"\n",
        "path_to_cr_data = \"./dataset/cropped/\""
      ],
      "metadata": {
        "id": "lWktuevlsfCm"
      },
      "execution_count": null,
      "outputs": []
    },
    {
      "cell_type": "code",
      "source": [
        "img_dirs = []\n",
        "for entry in os.scandir(path_to_data):\n",
        "    if entry.is_dir():\n",
        "        img_dirs.append(entry.path)"
      ],
      "metadata": {
        "id": "FL3CY7dmsmsi"
      },
      "execution_count": null,
      "outputs": []
    },
    {
      "cell_type": "code",
      "source": [
        "img_dirs"
      ],
      "metadata": {
        "colab": {
          "base_uri": "https://localhost:8080/"
        },
        "id": "XoNuyXeVtKg_",
        "outputId": "e784b516-73e7-465d-a625-64730ae5c0fb"
      },
      "execution_count": null,
      "outputs": [
        {
          "output_type": "execute_result",
          "data": {
            "text/plain": [
              "['./dataset/Prof. snape',\n",
              " './dataset/Hermione Granger',\n",
              " './dataset/Harry Potter',\n",
              " './dataset/Ron Weasley',\n",
              " './dataset/Voldermort']"
            ]
          },
          "metadata": {},
          "execution_count": 9
        }
      ]
    },
    {
      "cell_type": "code",
      "source": [
        "if os.path.exists(path_to_cr_data):\n",
        "    shutil.rmtree(path_to_cr_data)\n",
        "os.mkdir(path_to_cr_data)"
      ],
      "metadata": {
        "id": "gkLYRQ-St1fn"
      },
      "execution_count": null,
      "outputs": []
    },
    {
      "cell_type": "code",
      "source": [
        "cropped_folder = path_to_cr_data + character_name"
      ],
      "metadata": {
        "id": "sTQFV_BO8Uao"
      },
      "execution_count": null,
      "outputs": []
    },
    {
      "cell_type": "code",
      "source": [
        "cropped_image_dir =[]\n",
        "character_name_dict ={}\n",
        "\n",
        "\n",
        "for img_dir in img_dirs:\n",
        "    character_name = img_dir.split('/')[-1]\n",
        "    print(character_name)\n",
        "    count = 1\n",
        "    character_name_dict[character_name] = []\n",
        "    \n",
        "    \n",
        "    for entry in os.scandir(img_dir):\n",
        "        roi_color = get_cropped_img_with_eyes(entry.path)\n",
        "        if roi_color is not None:\n",
        "            cropped_folder = path_to_cr_data + character_name         \n",
        "            if not os.path.exists(cropped_folder):\n",
        "                os.mkdir(cropped_folder)\n",
        "                cropped_image_dir.append(cropped_folder)\n",
        "                print('generating cropped images',cropped_folder)\n",
        "                \n",
        "        cropped_file_name = character_name + str(count) + \".png\"\n",
        "        cropped_file_path = cropped_folder + \"/\" + cropped_file_name\n",
        "        if roi_color is not None:\n",
        "            cv2.imwrite(cropped_file_path, roi_color)\n",
        "        \n",
        "        character_name_dict[character_name].append(cropped_file_path)\n",
        "        count+=1\n",
        "        "
      ],
      "metadata": {
        "colab": {
          "base_uri": "https://localhost:8080/"
        },
        "id": "FCPfsHb3t6bN",
        "outputId": "b938e878-2365-4add-cbea-3376fc8367db"
      },
      "execution_count": null,
      "outputs": [
        {
          "output_type": "stream",
          "name": "stdout",
          "text": [
            "Prof. snape\n",
            "generating cropped images ./dataset/cropped/Prof. snape\n",
            "Hermione Granger\n",
            "generating cropped images ./dataset/cropped/Hermione Granger\n",
            "Harry Potter\n",
            "generating cropped images ./dataset/cropped/Harry Potter\n",
            "Ron Weasley\n",
            "generating cropped images ./dataset/cropped/Ron Weasley\n",
            "Voldermort\n",
            "generating cropped images ./dataset/cropped/Voldermort\n"
          ]
        }
      ]
    },
    {
      "cell_type": "code",
      "source": [
        "def w2d(img, mode='haar', level=1):\n",
        "    imArray = img\n",
        "    #Datatype conversions\n",
        "    #convert to grayscale\n",
        "    imArray = cv2.cvtColor( imArray,cv2.COLOR_RGB2GRAY )\n",
        "    #convert to float\n",
        "    imArray =  np.float32(imArray)   \n",
        "    imArray /= 255;\n",
        "    # compute coefficients \n",
        "    coeffs=pywt.wavedec2(imArray, mode, level=level)\n",
        "\n",
        "    #Process Coefficients\n",
        "    coeffs_H=list(coeffs)  \n",
        "    coeffs_H[0] *= 0;  \n",
        "\n",
        "    # reconstruction\n",
        "    imArray_H=pywt.waverec2(coeffs_H, mode);\n",
        "    imArray_H *= 255;\n",
        "    imArray_H =  np.uint8(imArray_H)\n",
        "\n",
        "    return imArray_H\n",
        "\n"
      ],
      "metadata": {
        "id": "yt63hXrLt-6z"
      },
      "execution_count": null,
      "outputs": []
    },
    {
      "cell_type": "code",
      "source": [
        "class_dict = {}\n",
        "count = 0\n",
        "for character_name in character_name_dict.keys():\n",
        "    class_dict[character_name] = count\n",
        "    count = count + 1\n",
        "class_dict"
      ],
      "metadata": {
        "colab": {
          "base_uri": "https://localhost:8080/"
        },
        "id": "ZikOSuD0DcYs",
        "outputId": "d10ede64-6d11-43ab-ddfd-4c6aa1fdf786"
      },
      "execution_count": null,
      "outputs": [
        {
          "output_type": "execute_result",
          "data": {
            "text/plain": [
              "{'Harry Potter': 2,\n",
              " 'Hermione Granger': 1,\n",
              " 'Prof. snape': 0,\n",
              " 'Ron Weasley': 3,\n",
              " 'Voldermort': 4}"
            ]
          },
          "metadata": {},
          "execution_count": 15
        }
      ]
    },
    {
      "cell_type": "code",
      "source": [
        "for character_name in class_dict:\n",
        "  print(class_dict[character_name])"
      ],
      "metadata": {
        "colab": {
          "base_uri": "https://localhost:8080/"
        },
        "id": "9AswSFpiEfiA",
        "outputId": "9c6e7d1f-83fb-4f5d-9e4c-56a7af90ad55"
      },
      "execution_count": null,
      "outputs": [
        {
          "output_type": "stream",
          "name": "stdout",
          "text": [
            "0\n",
            "1\n",
            "2\n",
            "3\n",
            "4\n"
          ]
        }
      ]
    },
    {
      "cell_type": "code",
      "source": [
        "X, y = [], []\n",
        "for character_name, training_files in character_name_dict.items():\n",
        "    for training_image in training_files:\n",
        "        img = cv2.imread(training_image)\n",
        "        if img is None:\n",
        "          continue\n",
        "        scaled_raw_img = cv2.resize(img, (32, 32))\n",
        "        img_har = w2d(img,'db1',5)\n",
        "        scaled_img_har = cv2.resize(img_har, (32, 32))\n",
        "        combined_img = np.vstack((scaled_raw_img.reshape(32*32*3,1),scaled_img_har.reshape(32*32,1)))\n",
        "        X.append(combined_img)\n",
        "        y.append(class_dict[character_name]) "
      ],
      "metadata": {
        "id": "lyV-JBtHDo4k"
      },
      "execution_count": null,
      "outputs": []
    },
    {
      "cell_type": "code",
      "source": [
        "len(X)"
      ],
      "metadata": {
        "colab": {
          "base_uri": "https://localhost:8080/"
        },
        "id": "_4kdR5X1Ex5-",
        "outputId": "4320c16b-5cdc-466a-95ee-7dc47c1bec79"
      },
      "execution_count": null,
      "outputs": [
        {
          "output_type": "execute_result",
          "data": {
            "text/plain": [
              "464"
            ]
          },
          "metadata": {},
          "execution_count": 18
        }
      ]
    },
    {
      "cell_type": "code",
      "source": [
        "len(X[0])"
      ],
      "metadata": {
        "colab": {
          "base_uri": "https://localhost:8080/"
        },
        "id": "wAi3kyvkGEi7",
        "outputId": "5e1fea2a-18ee-45e6-a550-47b70f61bb72"
      },
      "execution_count": null,
      "outputs": [
        {
          "output_type": "execute_result",
          "data": {
            "text/plain": [
              "4096"
            ]
          },
          "metadata": {},
          "execution_count": 21
        }
      ]
    },
    {
      "cell_type": "code",
      "source": [
        "X.shape"
      ],
      "metadata": {
        "colab": {
          "base_uri": "https://localhost:8080/"
        },
        "id": "ejLd8EU2GhIw",
        "outputId": "c447423c-a486-4e47-db3e-e016fc0481e3"
      },
      "execution_count": null,
      "outputs": [
        {
          "output_type": "execute_result",
          "data": {
            "text/plain": [
              "(464, 4096)"
            ]
          },
          "metadata": {},
          "execution_count": 20
        }
      ]
    },
    {
      "cell_type": "code",
      "source": [
        "X = np.array(X).reshape(len(X),4096).astype(float)\n",
        "X.shape"
      ],
      "metadata": {
        "colab": {
          "base_uri": "https://localhost:8080/"
        },
        "id": "IHKElPG7GcYG",
        "outputId": "35d867f4-5ca4-490c-faa6-3cb0ec773488"
      },
      "execution_count": null,
      "outputs": [
        {
          "output_type": "execute_result",
          "data": {
            "text/plain": [
              "(464, 4096)"
            ]
          },
          "metadata": {},
          "execution_count": 19
        }
      ]
    },
    {
      "cell_type": "code",
      "source": [
        "from sklearn.preprocessing import StandardScaler\n",
        "from sklearn.model_selection import train_test_split\n",
        "from sklearn.pipeline import Pipeline\n",
        "from sklearn.metrics import classification_report\n",
        "from sklearn import svm\n",
        "from sklearn.svm import SVC\n",
        "from sklearn.ensemble import RandomForestClassifier\n",
        "from sklearn.pipeline import make_pipeline\n",
        "from sklearn.model_selection import GridSearchCV\n",
        "from sklearn.metrics import confusion_matrix"
      ],
      "metadata": {
        "id": "tdrlGYNWGume"
      },
      "execution_count": null,
      "outputs": []
    },
    {
      "cell_type": "code",
      "source": [
        "X_train, X_test, y_train, y_test = train_test_split(X, y, random_state = 0, stratify = y)"
      ],
      "metadata": {
        "id": "Xizg_iypo-y6"
      },
      "execution_count": null,
      "outputs": []
    },
    {
      "cell_type": "code",
      "source": [
        "model_params = {\n",
        "    'svm': {\n",
        "        'model': svm.SVC(gamma='auto',probability=True),\n",
        "        'params' : {\n",
        "            'svc__C': [0.1, 1, 10, 100, 1000],\n",
        "            'svc__kernel': ['rbf','linear']\n",
        "        }  \n",
        "    },\n",
        "    'random_forest': {\n",
        "        'model': RandomForestClassifier(),\n",
        "        'params' : {\n",
        "            'randomforestclassifier__n_estimators': [1,5,10,15,25,50,100]\n",
        "        }\n",
        "    }\n",
        "}\n"
      ],
      "metadata": {
        "id": "Ssf8FGmRrFYu"
      },
      "execution_count": null,
      "outputs": []
    },
    {
      "cell_type": "code",
      "source": [
        "scores = []\n",
        "best_estimators = {}\n",
        "\n",
        "for algo, mp in model_params.items():\n",
        "    pipe = make_pipeline(StandardScaler(), mp['model'])\n",
        "    clf =  GridSearchCV(pipe, mp['params'], cv=5, return_train_score=False)\n",
        "    clf.fit(X_train, y_train)\n",
        "    scores.append({\n",
        "        'model': algo,\n",
        "        'best_score': clf.best_score_,\n",
        "        'best_params': clf.best_params_\n",
        "    })\n",
        "    best_estimators[algo] = clf.best_estimator_\n",
        "    \n",
        "df = pd.DataFrame(scores,columns=['model','best_score','best_params'])\n",
        "df\n",
        "\n"
      ],
      "metadata": {
        "colab": {
          "base_uri": "https://localhost:8080/",
          "height": 112
        },
        "id": "l29Gk67BqNPE",
        "outputId": "d23821c3-edfe-4ad2-b623-d2d4d5a3289e"
      },
      "execution_count": null,
      "outputs": [
        {
          "output_type": "execute_result",
          "data": {
            "text/plain": [
              "           model  best_score                                    best_params\n",
              "0            svm    0.859089       {'svc__C': 0.1, 'svc__kernel': 'linear'}\n",
              "1  random_forest    0.761408  {'randomforestclassifier__n_estimators': 100}"
            ],
            "text/html": [
              "\n",
              "  <div id=\"df-60a6a10a-cbb2-48bf-afb5-aabfdf86ac13\">\n",
              "    <div class=\"colab-df-container\">\n",
              "      <div>\n",
              "<style scoped>\n",
              "    .dataframe tbody tr th:only-of-type {\n",
              "        vertical-align: middle;\n",
              "    }\n",
              "\n",
              "    .dataframe tbody tr th {\n",
              "        vertical-align: top;\n",
              "    }\n",
              "\n",
              "    .dataframe thead th {\n",
              "        text-align: right;\n",
              "    }\n",
              "</style>\n",
              "<table border=\"1\" class=\"dataframe\">\n",
              "  <thead>\n",
              "    <tr style=\"text-align: right;\">\n",
              "      <th></th>\n",
              "      <th>model</th>\n",
              "      <th>best_score</th>\n",
              "      <th>best_params</th>\n",
              "    </tr>\n",
              "  </thead>\n",
              "  <tbody>\n",
              "    <tr>\n",
              "      <th>0</th>\n",
              "      <td>svm</td>\n",
              "      <td>0.859089</td>\n",
              "      <td>{'svc__C': 0.1, 'svc__kernel': 'linear'}</td>\n",
              "    </tr>\n",
              "    <tr>\n",
              "      <th>1</th>\n",
              "      <td>random_forest</td>\n",
              "      <td>0.761408</td>\n",
              "      <td>{'randomforestclassifier__n_estimators': 100}</td>\n",
              "    </tr>\n",
              "  </tbody>\n",
              "</table>\n",
              "</div>\n",
              "      <button class=\"colab-df-convert\" onclick=\"convertToInteractive('df-60a6a10a-cbb2-48bf-afb5-aabfdf86ac13')\"\n",
              "              title=\"Convert this dataframe to an interactive table.\"\n",
              "              style=\"display:none;\">\n",
              "        \n",
              "  <svg xmlns=\"http://www.w3.org/2000/svg\" height=\"24px\"viewBox=\"0 0 24 24\"\n",
              "       width=\"24px\">\n",
              "    <path d=\"M0 0h24v24H0V0z\" fill=\"none\"/>\n",
              "    <path d=\"M18.56 5.44l.94 2.06.94-2.06 2.06-.94-2.06-.94-.94-2.06-.94 2.06-2.06.94zm-11 1L8.5 8.5l.94-2.06 2.06-.94-2.06-.94L8.5 2.5l-.94 2.06-2.06.94zm10 10l.94 2.06.94-2.06 2.06-.94-2.06-.94-.94-2.06-.94 2.06-2.06.94z\"/><path d=\"M17.41 7.96l-1.37-1.37c-.4-.4-.92-.59-1.43-.59-.52 0-1.04.2-1.43.59L10.3 9.45l-7.72 7.72c-.78.78-.78 2.05 0 2.83L4 21.41c.39.39.9.59 1.41.59.51 0 1.02-.2 1.41-.59l7.78-7.78 2.81-2.81c.8-.78.8-2.07 0-2.86zM5.41 20L4 18.59l7.72-7.72 1.47 1.35L5.41 20z\"/>\n",
              "  </svg>\n",
              "      </button>\n",
              "      \n",
              "  <style>\n",
              "    .colab-df-container {\n",
              "      display:flex;\n",
              "      flex-wrap:wrap;\n",
              "      gap: 12px;\n",
              "    }\n",
              "\n",
              "    .colab-df-convert {\n",
              "      background-color: #E8F0FE;\n",
              "      border: none;\n",
              "      border-radius: 50%;\n",
              "      cursor: pointer;\n",
              "      display: none;\n",
              "      fill: #1967D2;\n",
              "      height: 32px;\n",
              "      padding: 0 0 0 0;\n",
              "      width: 32px;\n",
              "    }\n",
              "\n",
              "    .colab-df-convert:hover {\n",
              "      background-color: #E2EBFA;\n",
              "      box-shadow: 0px 1px 2px rgba(60, 64, 67, 0.3), 0px 1px 3px 1px rgba(60, 64, 67, 0.15);\n",
              "      fill: #174EA6;\n",
              "    }\n",
              "\n",
              "    [theme=dark] .colab-df-convert {\n",
              "      background-color: #3B4455;\n",
              "      fill: #D2E3FC;\n",
              "    }\n",
              "\n",
              "    [theme=dark] .colab-df-convert:hover {\n",
              "      background-color: #434B5C;\n",
              "      box-shadow: 0px 1px 3px 1px rgba(0, 0, 0, 0.15);\n",
              "      filter: drop-shadow(0px 1px 2px rgba(0, 0, 0, 0.3));\n",
              "      fill: #FFFFFF;\n",
              "    }\n",
              "  </style>\n",
              "\n",
              "      <script>\n",
              "        const buttonEl =\n",
              "          document.querySelector('#df-60a6a10a-cbb2-48bf-afb5-aabfdf86ac13 button.colab-df-convert');\n",
              "        buttonEl.style.display =\n",
              "          google.colab.kernel.accessAllowed ? 'block' : 'none';\n",
              "\n",
              "        async function convertToInteractive(key) {\n",
              "          const element = document.querySelector('#df-60a6a10a-cbb2-48bf-afb5-aabfdf86ac13');\n",
              "          const dataTable =\n",
              "            await google.colab.kernel.invokeFunction('convertToInteractive',\n",
              "                                                     [key], {});\n",
              "          if (!dataTable) return;\n",
              "\n",
              "          const docLinkHtml = 'Like what you see? Visit the ' +\n",
              "            '<a target=\"_blank\" href=https://colab.research.google.com/notebooks/data_table.ipynb>data table notebook</a>'\n",
              "            + ' to learn more about interactive tables.';\n",
              "          element.innerHTML = '';\n",
              "          dataTable['output_type'] = 'display_data';\n",
              "          await google.colab.output.renderOutput(dataTable, element);\n",
              "          const docLink = document.createElement('div');\n",
              "          docLink.innerHTML = docLinkHtml;\n",
              "          element.appendChild(docLink);\n",
              "        }\n",
              "      </script>\n",
              "    </div>\n",
              "  </div>\n",
              "  "
            ]
          },
          "metadata": {},
          "execution_count": 27
        }
      ]
    },
    {
      "cell_type": "code",
      "source": [
        "best_estimators\n",
        "\n"
      ],
      "metadata": {
        "colab": {
          "base_uri": "https://localhost:8080/"
        },
        "id": "xife8k41DFF1",
        "outputId": "bb2839ff-0710-4d1c-e48a-bd8b554b6555"
      },
      "execution_count": null,
      "outputs": [
        {
          "output_type": "execute_result",
          "data": {
            "text/plain": [
              "{'random_forest': Pipeline(steps=[('standardscaler', StandardScaler()),\n",
              "                 ('randomforestclassifier', RandomForestClassifier())]),\n",
              " 'svm': Pipeline(steps=[('standardscaler', StandardScaler()),\n",
              "                 ('svc',\n",
              "                  SVC(C=0.1, gamma='auto', kernel='linear', probability=True))])}"
            ]
          },
          "metadata": {},
          "execution_count": 28
        }
      ]
    },
    {
      "cell_type": "code",
      "source": [
        "best_estimators['svm'].score(X_test,y_test)"
      ],
      "metadata": {
        "colab": {
          "base_uri": "https://localhost:8080/"
        },
        "id": "KeUADFEbDHxs",
        "outputId": "cbbb8716-bc50-4658-e741-b4415bedc696"
      },
      "execution_count": null,
      "outputs": [
        {
          "output_type": "execute_result",
          "data": {
            "text/plain": [
              "0.8362068965517241"
            ]
          },
          "metadata": {},
          "execution_count": 29
        }
      ]
    },
    {
      "cell_type": "code",
      "source": [
        "best_estimators['random_forest'].score(X_test,y_test)"
      ],
      "metadata": {
        "colab": {
          "base_uri": "https://localhost:8080/"
        },
        "id": "4L40oYx_Dgdk",
        "outputId": "5b1c7c79-85dc-49fe-b641-db86fc53556b"
      },
      "execution_count": null,
      "outputs": [
        {
          "output_type": "execute_result",
          "data": {
            "text/plain": [
              "0.7413793103448276"
            ]
          },
          "metadata": {},
          "execution_count": 30
        }
      ]
    },
    {
      "cell_type": "code",
      "source": [
        "best_clf = best_estimators['svm']"
      ],
      "metadata": {
        "id": "rZk85BzmDoX0"
      },
      "execution_count": null,
      "outputs": []
    },
    {
      "cell_type": "code",
      "source": [
        "best_model = Pipeline(steps=[('standardscaler', StandardScaler()),('svc', SVC(C=0.1, gamma='auto', kernel='linear', probability=True))])\n",
        "best_model.fit(X_train, y_train)\n",
        "best_model.score(X_test, y_test)"
      ],
      "metadata": {
        "colab": {
          "base_uri": "https://localhost:8080/"
        },
        "id": "Ecg4il0nDs2P",
        "outputId": "ae1febf9-0a1d-482e-f0db-6d37614df31a"
      },
      "execution_count": null,
      "outputs": [
        {
          "output_type": "execute_result",
          "data": {
            "text/plain": [
              "0.8362068965517241"
            ]
          },
          "metadata": {},
          "execution_count": 23
        }
      ]
    },
    {
      "cell_type": "code",
      "source": [
        "confusion_m = confusion_matrix(y_test, best_model.predict(X_test))"
      ],
      "metadata": {
        "id": "9bhrmJUaGurz"
      },
      "execution_count": null,
      "outputs": []
    },
    {
      "cell_type": "code",
      "source": [
        "plt.figure(figsize = (10,7))\n",
        "sns.heatmap(confusion_m, annot=True)\n",
        "plt.xlabel('Predicted')\n",
        "plt.ylabel('Truth')"
      ],
      "metadata": {
        "colab": {
          "base_uri": "https://localhost:8080/",
          "height": 459
        },
        "id": "uJTebPJjHAdi",
        "outputId": "cb4d6c4e-a479-4148-a418-2dcdca51da13"
      },
      "execution_count": null,
      "outputs": [
        {
          "output_type": "execute_result",
          "data": {
            "text/plain": [
              "Text(69.0, 0.5, 'Truth')"
            ]
          },
          "metadata": {},
          "execution_count": 25
        },
        {
          "output_type": "display_data",
          "data": {
            "text/plain": [
              "<Figure size 720x504 with 2 Axes>"
            ],
            "image/png": "[encoded data removed]"
          },
          "metadata": {
            "needs_background": "light"
          }
        }
      ]
    },
    {
      "cell_type": "code",
      "source": [
        "import pickle"
      ],
      "metadata": {
        "id": "zM1sc2OeH6ke"
      },
      "execution_count": null,
      "outputs": []
    },
    {
      "cell_type": "code",
      "source": [
        "with open('model_pkl', 'wb') as files:\n",
        "    pickle.dump(best_model, files)"
      ],
      "metadata": {
        "id": "FG4URqAsotS2"
      },
      "execution_count": null,
      "outputs": []
    },
    {
      "cell_type": "code",
      "source": [
        "import json\n",
        "with open(\"class_dictionary.json\",\"w\") as f:\n",
        "    f.write(json.dumps(class_dict))"
      ],
      "metadata": {
        "id": "Kbl3mK6uwMrM"
      },
      "execution_count": null,
      "outputs": []
    }
  ]
}